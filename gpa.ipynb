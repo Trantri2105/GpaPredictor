{
 "cells": [
  {
   "metadata": {
    "ExecuteTime": {
     "end_time": "2024-11-12T14:04:54.686579Z",
     "start_time": "2024-11-12T14:04:54.682869Z"
    }
   },
   "cell_type": "code",
   "source": [
    "from flask import Flask, request, jsonify\n",
    "import pickle\n",
    "import pandas as pd"
   ],
   "id": "fbc121e30a2defb3",
   "outputs": [],
   "execution_count": 16
  },
  {
   "metadata": {
    "ExecuteTime": {
     "end_time": "2024-11-12T14:04:54.696179Z",
     "start_time": "2024-11-12T14:04:54.691812Z"
    }
   },
   "cell_type": "code",
   "source": [
    "# Initialize the Flask app\n",
    "app = Flask(__name__)"
   ],
   "id": "4230560f904023dd",
   "outputs": [],
   "execution_count": 17
  },
  {
   "metadata": {
    "ExecuteTime": {
     "end_time": "2024-11-12T14:04:54.708338Z",
     "start_time": "2024-11-12T14:04:54.704164Z"
    }
   },
   "cell_type": "code",
   "source": [
    "# Load the trained model\n",
    "with open('gpa_predictor_model.pkl', 'rb') as model_file:\n",
    "    model = pickle.load(model_file)"
   ],
   "id": "15f4927a52986899",
   "outputs": [],
   "execution_count": 18
  },
  {
   "metadata": {
    "ExecuteTime": {
     "end_time": "2024-11-12T14:04:54.723017Z",
     "start_time": "2024-11-12T14:04:54.716564Z"
    }
   },
   "cell_type": "code",
   "source": [
    "# Define the prediction route\n",
    "@app.route('/predict', methods=['POST'])\n",
    "def predict_gpa():\n",
    "    try:\n",
    "        # Extract the input data (previous GPA values) from the request\n",
    "        data = request.json\n",
    "        gpa_t1 = data['gpa_t1']\n",
    "        gpa_t2 = data['gpa_t2']\n",
    "        gpa_t3 = data['gpa_t3']\n",
    "        gpa_t4 = data['gpa_t4']\n",
    "\n",
    "        feature_names = ['gpa_t1', 'gpa_t2', 'gpa_t3', 'gpa_t4']\n",
    "        input_data = pd.DataFrame([[gpa_t1, gpa_t2, gpa_t3, gpa_t4]], columns=feature_names)\n",
    "\n",
    "        # Make the prediction using the loaded model\n",
    "        prediction = model.predict(input_data)[0]\n",
    "        \n",
    "        print(prediction)\n",
    "\n",
    "        # Return the prediction as a JSON response\n",
    "        return jsonify({'predicted_future_gpa': prediction})\n",
    "\n",
    "    except Exception as e:\n",
    "        return jsonify({'error': str(e)})"
   ],
   "id": "cc489e25d03d7c96",
   "outputs": [],
   "execution_count": 19
  },
  {
   "metadata": {
    "jupyter": {
     "is_executing": true
    },
    "ExecuteTime": {
     "start_time": "2024-11-12T14:04:54.738529Z"
    }
   },
   "cell_type": "code",
   "source": [
    "# Run the app\n",
    "if __name__ == '__main__':\n",
    "    app.run(debug=False)"
   ],
   "id": "445530d0cf1857d8",
   "outputs": [
    {
     "name": "stdout",
     "output_type": "stream",
     "text": [
      " * Serving Flask app '__main__'\n",
      " * Debug mode: off\n"
     ]
    },
    {
     "name": "stderr",
     "output_type": "stream",
     "text": [
      "WARNING: This is a development server. Do not use it in a production deployment. Use a production WSGI server instead.\n",
      " * Running on http://127.0.0.1:5000\n",
      "Press CTRL+C to quit\n"
     ]
    }
   ],
   "execution_count": null
  }
 ],
 "metadata": {
  "kernelspec": {
   "display_name": "Python 3",
   "language": "python",
   "name": "python3"
  },
  "language_info": {
   "codemirror_mode": {
    "name": "ipython",
    "version": 2
   },
   "file_extension": ".py",
   "mimetype": "text/x-python",
   "name": "python",
   "nbconvert_exporter": "python",
   "pygments_lexer": "ipython2",
   "version": "2.7.6"
  }
 },
 "nbformat": 4,
 "nbformat_minor": 5
}
